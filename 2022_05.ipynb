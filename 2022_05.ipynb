{
 "cells": [
  {
   "cell_type": "code",
   "execution_count": 1,
   "metadata": {},
   "outputs": [],
   "source": [
    "import requests\n",
    "import numpy as np\n",
    "import pandas as pd"
   ]
  },
  {
   "cell_type": "code",
   "execution_count": 2,
   "metadata": {},
   "outputs": [],
   "source": [
    "INPUT_URL = \"https://adventofcode.com/2022/day/5/input\"\n",
    "with open(\"session.txt\", \"r\") as fh:\n",
    "    SESSION = fh.readlines()[0]"
   ]
  },
  {
   "cell_type": "code",
   "execution_count": 3,
   "metadata": {},
   "outputs": [],
   "source": [
    "def get_input() -> str:\n",
    "    return requests.get(INPUT_URL, cookies={\"session\": SESSION}).text"
   ]
  },
  {
   "cell_type": "code",
   "execution_count": 43,
   "metadata": {},
   "outputs": [],
   "source": [
    "input = get_input()"
   ]
  },
  {
   "cell_type": "code",
   "execution_count": 39,
   "metadata": {},
   "outputs": [],
   "source": [
    "input = \"\"\"    [D]    \n",
    "[N] [C]    \n",
    "[Z] [M] [P]\n",
    " 1   2   3 \n",
    "\n",
    "move 1 from 2 to 1\n",
    "move 3 from 1 to 3\n",
    "move 2 from 2 to 1\n",
    "move 1 from 1 to 2\n",
    "\"\"\""
   ]
  },
  {
   "cell_type": "code",
   "execution_count": 38,
   "metadata": {},
   "outputs": [
    {
     "data": {
      "text/plain": [
       "'RTGWZTHLD'"
      ]
     },
     "execution_count": 38,
     "metadata": {},
     "output_type": "execute_result"
    }
   ],
   "source": [
    "# Part 1\n",
    "from collections import deque\n",
    "from itertools import zip_longest\n",
    "import re\n",
    "\n",
    "\n",
    "def find_stack_dimension(input):\n",
    "    w = None\n",
    "    for i, line in enumerate(input.splitlines()):\n",
    "        try:\n",
    "            if w is None:\n",
    "                w = int(line[-2])\n",
    "        except ValueError:\n",
    "            pass\n",
    "        if not line:\n",
    "            h = i - 1\n",
    "            return h, w\n",
    "\n",
    "\n",
    "move_re = re.compile(\"move (\\d+) from (\\d+) to (\\d+)\")\n",
    "\n",
    "\n",
    "def parse_stack(input: str, h):\n",
    "    stacks: list[deque[str]] = []\n",
    "    cmds: list[tuple[int, int, int]] = []\n",
    "    for i, line in enumerate(input.splitlines()):\n",
    "        if i < h:\n",
    "            groups = [iter(line)] * 4\n",
    "            for i, stack in enumerate(zip_longest(*groups, fillvalue=\" \")):\n",
    "                while i >= len(stacks):\n",
    "                    stacks.append(deque())\n",
    "\n",
    "                if stack[1].strip():\n",
    "                    stacks[i].append(stack[1])\n",
    "        elif i > h + 1:\n",
    "            match = move_re.match(line)\n",
    "            assert match, line\n",
    "            cmds.append([int(j) for j in match.groups()])\n",
    "    return stacks, cmds\n",
    "\n",
    "\n",
    "h, w = find_stack_dimension(input)\n",
    "stacks, cmds = parse_stack(input, h)\n",
    "for num, s, t in cmds:\n",
    "    # print(num, s, t)\n",
    "    for _ in range(num):\n",
    "        stacks[t - 1].appendleft(stacks[s - 1].popleft())\n",
    "    # print(stacks)\n",
    "\n",
    "\"\".join([stack[0] for stack in stacks])"
   ]
  },
  {
   "cell_type": "code",
   "execution_count": 44,
   "metadata": {},
   "outputs": [
    {
     "data": {
      "text/plain": [
       "'STHGRZZFR'"
      ]
     },
     "execution_count": 44,
     "metadata": {},
     "output_type": "execute_result"
    }
   ],
   "source": [
    "# Part 2\n",
    "h, w = find_stack_dimension(input)\n",
    "stacks, cmds = parse_stack(input, h)\n",
    "for num, s, t in cmds:\n",
    "    # print(num, s, t)\n",
    "    load = []\n",
    "    for _ in range(num):\n",
    "        load.append(stacks[s - 1].popleft())\n",
    "    # print(load)\n",
    "    stacks[t - 1].extendleft(reversed(load))\n",
    "    # print(stacks)\n",
    "\n",
    "\"\".join([stack[0] for stack in stacks])"
   ]
  },
  {
   "cell_type": "code",
   "execution_count": null,
   "metadata": {},
   "outputs": [],
   "source": []
  }
 ],
 "metadata": {
  "kernelspec": {
   "display_name": "base",
   "language": "python",
   "name": "python3"
  },
  "language_info": {
   "codemirror_mode": {
    "name": "ipython",
    "version": 3
   },
   "file_extension": ".py",
   "mimetype": "text/x-python",
   "name": "python",
   "nbconvert_exporter": "python",
   "pygments_lexer": "ipython3",
   "version": "3.9.12 | packaged by conda-forge | (main, Mar 24 2022, 23:23:20) \n[Clang 12.0.1 ]"
  },
  "orig_nbformat": 4,
  "vscode": {
   "interpreter": {
    "hash": "e3783e17305731cd7074ea424790dd7eec9bfd8aa6710442def470b8698787fb"
   }
  }
 },
 "nbformat": 4,
 "nbformat_minor": 2
}
