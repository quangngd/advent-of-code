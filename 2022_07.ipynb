{
 "cells": [
  {
   "cell_type": "code",
   "execution_count": 1,
   "metadata": {},
   "outputs": [],
   "source": [
    "import requests\n",
    "import numpy as np\n",
    "import pandas as pd"
   ]
  },
  {
   "cell_type": "code",
   "execution_count": 2,
   "metadata": {},
   "outputs": [],
   "source": [
    "INPUT_URL = \"https://adventofcode.com/2022/day/7/input\"\n",
    "with open(\"session.txt\", \"r\") as fh:\n",
    "    SESSION = fh.readlines()[0]"
   ]
  },
  {
   "cell_type": "code",
   "execution_count": 3,
   "metadata": {},
   "outputs": [],
   "source": [
    "def get_input() -> str:\n",
    "    return requests.get(INPUT_URL, cookies={\"session\": SESSION}).text"
   ]
  },
  {
   "cell_type": "code",
   "execution_count": 58,
   "metadata": {},
   "outputs": [],
   "source": [
    "input = get_input()"
   ]
  },
  {
   "cell_type": "code",
   "execution_count": 52,
   "metadata": {},
   "outputs": [],
   "source": [
    "input = \"\"\"$ cd /\n",
    "$ ls\n",
    "dir a\n",
    "14848514 b.txt\n",
    "8504156 c.dat\n",
    "dir d\n",
    "$ cd a\n",
    "$ ls\n",
    "dir e\n",
    "29116 f\n",
    "2557 g\n",
    "62596 h.lst\n",
    "$ cd e\n",
    "$ ls\n",
    "584 i\n",
    "$ cd ..\n",
    "$ cd ..\n",
    "$ cd d\n",
    "$ ls\n",
    "4060174 j\n",
    "8033020 d.log\n",
    "5626152 d.ext\n",
    "7214296 k\n",
    "\"\"\""
   ]
  },
  {
   "cell_type": "code",
   "execution_count": 59,
   "metadata": {},
   "outputs": [
    {
     "data": {
      "text/plain": [
       "1449447"
      ]
     },
     "execution_count": 59,
     "metadata": {},
     "output_type": "execute_result"
    }
   ],
   "source": [
    "# Part 1\n",
    "\n",
    "from dataclasses import dataclass\n",
    "from typing import Callable\n",
    "\n",
    "\n",
    "@dataclass\n",
    "class Action:\n",
    "    cmd: str\n",
    "    argv: list[str]\n",
    "    out: list[str]\n",
    "\n",
    "\n",
    "class Node:\n",
    "    name: str\n",
    "    size: int = 0\n",
    "    parent: \"Dir\" = None\n",
    "\n",
    "    def __init__(self, name: str, size: int) -> None:\n",
    "        self.name = name\n",
    "        self.size = size\n",
    "\n",
    "    def print(self, prefix: str = \"\") -> str:\n",
    "        print(f\"{prefix}{self.name}, {self.__class__} ({self.size})\")\n",
    "\n",
    "\n",
    "class File(Node):\n",
    "    pass\n",
    "\n",
    "\n",
    "class Dir(Node):\n",
    "    def __init__(self, name: str) -> None:\n",
    "        super().__init__(name, 0)\n",
    "        self.sub_dir: dict[str, \"Dir\"] = {}\n",
    "        self.sub_files: list[File] = []\n",
    "\n",
    "    def print(self, prefix: str = \"\") -> str:\n",
    "        super().print(prefix)\n",
    "        for f in self.sub_files:\n",
    "            f.print(prefix + \" - \")\n",
    "        for d in self.sub_dir.values():\n",
    "            d.print(prefix + \" - \")\n",
    "\n",
    "    def add_child(self, child: Node):\n",
    "        assert not child.parent\n",
    "        child.parent = self\n",
    "        if isinstance(child, File):\n",
    "            # print(f\"!! add file {child.name} to {self.name}\")\n",
    "            self.sub_files.append(child)\n",
    "        elif isinstance(child, Dir):\n",
    "            assert child.name not in self.sub_dir\n",
    "            # print(f\"!! add dir {child.name} to {self.name}\")\n",
    "            self.sub_dir[child.name] = child\n",
    "        self._update_size(child.size)\n",
    "\n",
    "    def _update_size(self, size: int):\n",
    "        self.size += size\n",
    "        if self.parent:\n",
    "            self.parent._update_size(size)\n",
    "\n",
    "\n",
    "def parse_input(input: str) -> list[Action]:\n",
    "    out: list[Action] = []\n",
    "    for l in input.splitlines():\n",
    "        if l.startswith(\"$\"):\n",
    "            parts = l.split(\" \")\n",
    "            out.append(Action(cmd=parts[1], argv=parts[2:], out=[]))\n",
    "        else:\n",
    "            out[-1].out.append(l)\n",
    "\n",
    "    return out\n",
    "\n",
    "\n",
    "def build_fs(actions: list[Action]) -> Dir:\n",
    "    root = Dir(\"/\")\n",
    "    pwd = root\n",
    "    for a in actions:\n",
    "        if a.cmd == \"cd\":\n",
    "            target = a.argv[0]\n",
    "            # print(f\"move to {target}\")\n",
    "            if target == \"/\":\n",
    "                pwd = root\n",
    "                continue\n",
    "            elif target == \"..\":\n",
    "                pwd = pwd.parent\n",
    "                continue\n",
    "            else:\n",
    "                pwd = pwd.sub_dir[target]\n",
    "                continue\n",
    "        elif a.cmd == \"ls\":\n",
    "            children = parse_ls(a.out)\n",
    "            for child in children:\n",
    "                # print(f\"add {child.name} to {pwd.name}\")\n",
    "                pwd.add_child(child)\n",
    "            continue\n",
    "        else:\n",
    "            raise RuntimeError(a)\n",
    "\n",
    "    return root\n",
    "\n",
    "\n",
    "def parse_ls(input: list[str]) -> list[Node]:\n",
    "    out: list[Node] = []\n",
    "    for l in input:\n",
    "        parts = l.split(\" \")\n",
    "        name = parts[1]\n",
    "        if parts[0] == \"dir\":\n",
    "            out.append(Dir(name))\n",
    "        else:\n",
    "            size = int(parts[0])\n",
    "            out.append(File(name, size))\n",
    "    return out\n",
    "\n",
    "\n",
    "def walk(root: Dir, fn: Callable[[Dir], None]):\n",
    "    fn(root)\n",
    "    for d in root.sub_dir.values():\n",
    "        walk(d, fn)\n",
    "\n",
    "\n",
    "result = 0\n",
    "\n",
    "\n",
    "def solve_fn(node: Dir):\n",
    "    global result\n",
    "    if node.size <= 100000:\n",
    "        result += node.size\n",
    "\n",
    "\n",
    "actions = parse_input(input)\n",
    "root = build_fs(actions)\n",
    "\n",
    "walk(root, solve_fn)\n",
    "result"
   ]
  },
  {
   "cell_type": "code",
   "execution_count": 60,
   "metadata": {},
   "outputs": [
    {
     "data": {
      "text/plain": [
       "8679207"
      ]
     },
     "execution_count": 60,
     "metadata": {},
     "output_type": "execute_result"
    }
   ],
   "source": [
    "# Part 2\n",
    "TOTAL_DISK = 70000000\n",
    "REQUIRED = 30000000\n",
    "\n",
    "unused = TOTAL_DISK - root.size\n",
    "to_delete = REQUIRED - unused\n",
    "\n",
    "result = float(\"inf\")\n",
    "\n",
    "\n",
    "def solve_fn(node: Dir):\n",
    "    global result\n",
    "    if node.size >= to_delete:\n",
    "        result = min(result, node.size)\n",
    "\n",
    "\n",
    "walk(root, solve_fn)\n",
    "result"
   ]
  },
  {
   "cell_type": "code",
   "execution_count": null,
   "metadata": {},
   "outputs": [],
   "source": []
  }
 ],
 "metadata": {
  "kernelspec": {
   "display_name": "base",
   "language": "python",
   "name": "python3"
  },
  "language_info": {
   "codemirror_mode": {
    "name": "ipython",
    "version": 3
   },
   "file_extension": ".py",
   "mimetype": "text/x-python",
   "name": "python",
   "nbconvert_exporter": "python",
   "pygments_lexer": "ipython3",
   "version": "3.9.12"
  },
  "orig_nbformat": 4,
  "vscode": {
   "interpreter": {
    "hash": "e3783e17305731cd7074ea424790dd7eec9bfd8aa6710442def470b8698787fb"
   }
  }
 },
 "nbformat": 4,
 "nbformat_minor": 2
}
