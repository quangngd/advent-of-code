{
 "cells": [
  {
   "cell_type": "code",
   "execution_count": 1,
   "metadata": {},
   "outputs": [],
   "source": [
    "import requests\n",
    "import numpy as np\n",
    "import pandas as pd"
   ]
  },
  {
   "cell_type": "code",
   "execution_count": 2,
   "metadata": {},
   "outputs": [],
   "source": [
    "INPUT_URL = \"https://adventofcode.com/2022/day/6/input\"\n",
    "with open(\"session.txt\", \"r\") as fh:\n",
    "    SESSION = fh.readlines()[0]"
   ]
  },
  {
   "cell_type": "code",
   "execution_count": 3,
   "metadata": {},
   "outputs": [],
   "source": [
    "def get_input() -> str:\n",
    "    return requests.get(INPUT_URL, cookies={\"session\": SESSION}).text"
   ]
  },
  {
   "cell_type": "code",
   "execution_count": 5,
   "metadata": {},
   "outputs": [],
   "source": [
    "input = get_input()"
   ]
  },
  {
   "cell_type": "code",
   "execution_count": 6,
   "metadata": {},
   "outputs": [],
   "source": [
    "test_cases = [\n",
    "    (\"mjqjpqmgbljsphdztnvjfqwrcgsmlb\", 7),\n",
    "    (\"bvwbjplbgvbhsrlpgdmjqwftvncz\", 5),\n",
    "    (\"nppdvjthqldpwncqszvftbrmjlhg\", 6),\n",
    "    (\"nznrnfrfntjfmvfwmzdfjlvtqnbhcprsg\", 10),\n",
    "    (\"zcfzfwzzqfrljwzlrfnpqdbhtmscgvjw\", 11),\n",
    "]"
   ]
  },
  {
   "cell_type": "code",
   "execution_count": 39,
   "metadata": {},
   "outputs": [],
   "source": [
    "# Part 1\n",
    "import collections\n",
    "from itertools import islice\n",
    "\n",
    "\n",
    "def sliding_window(iterable, n):\n",
    "    # sliding_window('ABCDEFG', 4) --> ABCD BCDE CDEF DEFG\n",
    "    it = iter(iterable)\n",
    "    window = collections.deque(islice(it, n), maxlen=n)\n",
    "    if len(window) == n:\n",
    "        yield tuple(window)\n",
    "    for x in it:\n",
    "        window.append(x)\n",
    "        yield tuple(window)\n",
    "\n",
    "\n",
    "def solve(inp: str, k) -> int:\n",
    "    for i, w in enumerate(sliding_window(inp, k)):\n",
    "        # print(w)\n",
    "        if collections.Counter(w).most_common(1)[0][1] == 1:\n",
    "            return i + k"
   ]
  },
  {
   "cell_type": "code",
   "execution_count": 40,
   "metadata": {},
   "outputs": [
    {
     "name": "stdout",
     "output_type": "stream",
     "text": [
      "7\n",
      "5\n",
      "6\n",
      "10\n",
      "11\n",
      "1702\n"
     ]
    }
   ],
   "source": [
    "for inp in test_cases:\n",
    "    print(solve(inp[0], 4))\n",
    "print(solve(input, 4))"
   ]
  },
  {
   "cell_type": "code",
   "execution_count": 41,
   "metadata": {},
   "outputs": [],
   "source": [
    "test_cases = [\n",
    "    (\"mjqjpqmgbljsphdztnvjfqwrcgsmlb\", 19),\n",
    "    (\"bvwbjplbgvbhsrlpgdmjqwftvncz\", 23),\n",
    "    (\"nppdvjthqldpwncqszvftbrmjlhg\", 23),\n",
    "    (\"nznrnfrfntjfmvfwmzdfjlvtqnbhcprsg\", 29),\n",
    "    (\"zcfzfwzzqfrljwzlrfnpqdbhtmscgvjw\", 26),\n",
    "]"
   ]
  },
  {
   "cell_type": "code",
   "execution_count": 42,
   "metadata": {},
   "outputs": [
    {
     "name": "stdout",
     "output_type": "stream",
     "text": [
      "19\n",
      "23\n",
      "23\n",
      "29\n",
      "26\n",
      "3559\n"
     ]
    }
   ],
   "source": [
    "# Part 2\n",
    "for inp in test_cases:\n",
    "    print(solve(inp[0], 14))\n",
    "print(solve(input, 14))"
   ]
  },
  {
   "cell_type": "code",
   "execution_count": null,
   "metadata": {},
   "outputs": [],
   "source": []
  }
 ],
 "metadata": {
  "kernelspec": {
   "display_name": "base",
   "language": "python",
   "name": "python3"
  },
  "language_info": {
   "codemirror_mode": {
    "name": "ipython",
    "version": 3
   },
   "file_extension": ".py",
   "mimetype": "text/x-python",
   "name": "python",
   "nbconvert_exporter": "python",
   "pygments_lexer": "ipython3",
   "version": "3.9.12 | packaged by conda-forge | (main, Mar 24 2022, 23:23:20) \n[Clang 12.0.1 ]"
  },
  "orig_nbformat": 4,
  "vscode": {
   "interpreter": {
    "hash": "e3783e17305731cd7074ea424790dd7eec9bfd8aa6710442def470b8698787fb"
   }
  }
 },
 "nbformat": 4,
 "nbformat_minor": 2
}
