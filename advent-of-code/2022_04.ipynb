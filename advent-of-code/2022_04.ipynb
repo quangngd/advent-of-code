{
 "cells": [
  {
   "cell_type": "code",
   "execution_count": 1,
   "metadata": {},
   "outputs": [],
   "source": [
    "import requests\n",
    "import numpy as np\n",
    "import pandas as pd"
   ]
  },
  {
   "cell_type": "code",
   "execution_count": 2,
   "metadata": {},
   "outputs": [],
   "source": [
    "INPUT_URL = \"https://adventofcode.com/2022/day/4/input\"\n",
    "with open(\"session.txt\", \"r\") as fh:\n",
    "    SESSION = fh.readlines()[0]"
   ]
  },
  {
   "cell_type": "code",
   "execution_count": 3,
   "metadata": {},
   "outputs": [],
   "source": [
    "def get_input() -> str:\n",
    "    return requests.get(INPUT_URL, cookies={\"session\": SESSION}).text"
   ]
  },
  {
   "cell_type": "code",
   "execution_count": 13,
   "metadata": {},
   "outputs": [],
   "source": [
    "input = get_input()"
   ]
  },
  {
   "cell_type": "code",
   "execution_count": 7,
   "metadata": {},
   "outputs": [],
   "source": [
    "input = \"\"\"2-4,6-8\n",
    "2-3,4-5\n",
    "5-7,7-9\n",
    "2-8,3-7\n",
    "6-6,4-6\n",
    "2-6,4-8\n",
    "22-63,41-80\n",
    "\"\"\""
   ]
  },
  {
   "cell_type": "code",
   "execution_count": 11,
   "metadata": {},
   "outputs": [],
   "source": [
    "# Part 1\n",
    "import re\n",
    "\n",
    "line_re = re.compile(\"(\\d+)-(\\d+),(\\d+)-(\\d+)\")\n",
    "\n",
    "\n",
    "def parse(line):\n",
    "    match = line_re.match(line)\n",
    "    assert match\n",
    "    return [int(i) for i in match.groups()]\n",
    "\n",
    "\n",
    "def is_fully_contain(l1, r1, l2, r2):\n",
    "    return (l1 <= l2 and r2 <= r1) or (l2 <= l1 and r1 <= r2)"
   ]
  },
  {
   "cell_type": "code",
   "execution_count": 14,
   "metadata": {},
   "outputs": [
    {
     "data": {
      "text/plain": [
       "431"
      ]
     },
     "execution_count": 14,
     "metadata": {},
     "output_type": "execute_result"
    }
   ],
   "source": [
    "s = 0\n",
    "for line in input.splitlines():\n",
    "    s += is_fully_contain(*parse(line))\n",
    "s"
   ]
  },
  {
   "cell_type": "code",
   "execution_count": 15,
   "metadata": {},
   "outputs": [
    {
     "data": {
      "text/plain": [
       "823"
      ]
     },
     "execution_count": 15,
     "metadata": {},
     "output_type": "execute_result"
    }
   ],
   "source": [
    "# Part 2\n",
    "def overlap(l1, r1, l2, r2):\n",
    "    return not (r2 < l1 or r1 < l2)\n",
    "\n",
    "\n",
    "s = 0\n",
    "for line in input.splitlines():\n",
    "    s += overlap(*parse(line))\n",
    "s"
   ]
  },
  {
   "cell_type": "code",
   "execution_count": null,
   "metadata": {},
   "outputs": [],
   "source": []
  }
 ],
 "metadata": {
  "kernelspec": {
   "display_name": "base",
   "language": "python",
   "name": "python3"
  },
  "language_info": {
   "codemirror_mode": {
    "name": "ipython",
    "version": 3
   },
   "file_extension": ".py",
   "mimetype": "text/x-python",
   "name": "python",
   "nbconvert_exporter": "python",
   "pygments_lexer": "ipython3",
   "version": "3.9.12 | packaged by conda-forge | (main, Mar 24 2022, 23:23:20) \n[Clang 12.0.1 ]"
  },
  "orig_nbformat": 4,
  "vscode": {
   "interpreter": {
    "hash": "e3783e17305731cd7074ea424790dd7eec9bfd8aa6710442def470b8698787fb"
   }
  }
 },
 "nbformat": 4,
 "nbformat_minor": 2
}
