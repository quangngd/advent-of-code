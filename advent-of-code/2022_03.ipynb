{
 "cells": [
  {
   "cell_type": "code",
   "execution_count": 1,
   "metadata": {},
   "outputs": [],
   "source": [
    "import requests\n",
    "import numpy as np\n",
    "import pandas as pd"
   ]
  },
  {
   "cell_type": "code",
   "execution_count": 2,
   "metadata": {},
   "outputs": [],
   "source": [
    "INPUT_URL = \"https://adventofcode.com/2022/day/3/input\"\n",
    "with open(\"session.txt\", \"r\") as fh:\n",
    "    SESSION = fh.readlines()[0]"
   ]
  },
  {
   "cell_type": "code",
   "execution_count": 3,
   "metadata": {},
   "outputs": [],
   "source": [
    "def get_input() -> str:\n",
    "    return requests.get(INPUT_URL, cookies={\"session\": SESSION}).text"
   ]
  },
  {
   "cell_type": "code",
   "execution_count": 8,
   "metadata": {},
   "outputs": [],
   "source": [
    "input = get_input()"
   ]
  },
  {
   "cell_type": "code",
   "execution_count": 5,
   "metadata": {},
   "outputs": [],
   "source": [
    "input = \"\"\"vJrwpWtwJgWrhcsFMMfFFhFp\n",
    "jqHRNqRjqzjGDLGLrsFMfFZSrLrFZsSL\n",
    "PmmdzqPrVvPwwTWBwg\n",
    "wMqvLMZHhHMvwLHjbvcjnnSBnvTQFn\n",
    "ttgJtRGJQctTZtZT\n",
    "CrZsJsPPZsGzwwsLwLmpwMDw\n",
    "\"\"\""
   ]
  },
  {
   "cell_type": "code",
   "execution_count": 6,
   "metadata": {},
   "outputs": [],
   "source": [
    "char_to_score = {chr(i): i - ord(\"a\") + 1 for i in range(ord(\"a\"), ord(\"z\") + 1)}\n",
    "char_to_score.update({chr(i): i - ord(\"A\") + 27 for i in range(ord(\"A\"), ord(\"Z\") + 1)})"
   ]
  },
  {
   "cell_type": "code",
   "execution_count": 9,
   "metadata": {},
   "outputs": [
    {
     "data": {
      "text/plain": [
       "7917"
      ]
     },
     "execution_count": 9,
     "metadata": {},
     "output_type": "execute_result"
    }
   ],
   "source": [
    "# Part 1\n",
    "def split(s):\n",
    "    part_len = len(s) // 2\n",
    "    return s[:part_len], s[part_len:]\n",
    "\n",
    "\n",
    "s = 0\n",
    "for line in input.splitlines():\n",
    "    a, b = split(line)\n",
    "    a = set(a)\n",
    "    score = 0\n",
    "    for bb in b:\n",
    "        if bb in a:\n",
    "            # print(bb, char_to_score[bb])\n",
    "            score = char_to_score[bb]\n",
    "            break\n",
    "    if score:\n",
    "        s += score\n",
    "    else:\n",
    "        print(\"what\")\n",
    "s"
   ]
  },
  {
   "cell_type": "code",
   "execution_count": 10,
   "metadata": {},
   "outputs": [
    {
     "data": {
      "text/plain": [
       "2585"
      ]
     },
     "execution_count": 10,
     "metadata": {},
     "output_type": "execute_result"
    }
   ],
   "source": [
    "# Part 2\n",
    "s = 0\n",
    "groups = [iter(input.splitlines())] * 3\n",
    "for a, b, c in zip(*groups):\n",
    "    badge = set(a).intersection(b, c).pop()\n",
    "    s += char_to_score[badge]\n",
    "s"
   ]
  }
 ],
 "metadata": {
  "kernelspec": {
   "display_name": "base",
   "language": "python",
   "name": "python3"
  },
  "language_info": {
   "codemirror_mode": {
    "name": "ipython",
    "version": 3
   },
   "file_extension": ".py",
   "mimetype": "text/x-python",
   "name": "python",
   "nbconvert_exporter": "python",
   "pygments_lexer": "ipython3",
   "version": "3.9.12"
  },
  "orig_nbformat": 4,
  "vscode": {
   "interpreter": {
    "hash": "e3783e17305731cd7074ea424790dd7eec9bfd8aa6710442def470b8698787fb"
   }
  }
 },
 "nbformat": 4,
 "nbformat_minor": 2
}
