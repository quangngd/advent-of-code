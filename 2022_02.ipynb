{
 "cells": [
  {
   "cell_type": "code",
   "execution_count": 1,
   "metadata": {},
   "outputs": [],
   "source": [
    "import requests\n",
    "import numpy as np\n",
    "import pandas as pd"
   ]
  },
  {
   "cell_type": "code",
   "execution_count": 6,
   "metadata": {},
   "outputs": [],
   "source": [
    "INPUT_URL = \"https://adventofcode.com/2022/day/2/input\"\n",
    "with open(\"session.txt\", \"r\") as fh:\n",
    "    SESSION = fh.readlines()[0]"
   ]
  },
  {
   "cell_type": "code",
   "execution_count": 7,
   "metadata": {},
   "outputs": [],
   "source": [
    "def get_input() -> str:\n",
    "    return requests.get(INPUT_URL, cookies={\"session\": SESSION}).text"
   ]
  },
  {
   "cell_type": "code",
   "execution_count": 35,
   "metadata": {},
   "outputs": [],
   "source": [
    "input = get_input()"
   ]
  },
  {
   "cell_type": "code",
   "execution_count": 31,
   "metadata": {},
   "outputs": [],
   "source": [
    "input = \"\"\"A Y\n",
    "B X\n",
    "C Z\n",
    "\"\"\""
   ]
  },
  {
   "cell_type": "code",
   "execution_count": 27,
   "metadata": {},
   "outputs": [],
   "source": [
    "# Part 1\n",
    "def decode(s: str):\n",
    "    if s == \"A\":\n",
    "        return \"r\"\n",
    "    elif s == \"B\":\n",
    "        return \"p\"\n",
    "    elif s == \"C\":\n",
    "        return \"s\"\n",
    "    elif s == \"X\":\n",
    "        return \"r\"\n",
    "    elif s == \"Y\":\n",
    "        return \"p\"\n",
    "    elif s == \"Z\":\n",
    "        return \"s\"\n",
    "\n",
    "\n",
    "def is_win(you, rival):\n",
    "    if you == rival:\n",
    "        return 3\n",
    "    if (you == \"r\" and rival == \"s\") or (you == \"p\" and rival == \"r\") or (you == \"s\" and rival == \"p\"):\n",
    "        return 6\n",
    "    return 0\n",
    "\n",
    "\n",
    "def move_score(move):\n",
    "    if move == \"r\":\n",
    "        return 1\n",
    "    elif move == \"p\":\n",
    "        return 2\n",
    "    elif move == \"s\":\n",
    "        return 3\n",
    "    raise Exception(\"\")"
   ]
  },
  {
   "cell_type": "code",
   "execution_count": 30,
   "metadata": {},
   "outputs": [
    {
     "data": {
      "text/plain": [
       "11666"
      ]
     },
     "execution_count": 30,
     "metadata": {},
     "output_type": "execute_result"
    }
   ],
   "source": [
    "s = 0\n",
    "for line in input.splitlines():\n",
    "    you = decode(line.split(\" \")[1])\n",
    "    rival = decode(line.split(\" \")[0])\n",
    "    s += move_score(you) + is_win(you, rival)\n",
    "s"
   ]
  },
  {
   "cell_type": "code",
   "execution_count": 36,
   "metadata": {},
   "outputs": [
    {
     "data": {
      "text/plain": [
       "12767"
      ]
     },
     "execution_count": 36,
     "metadata": {},
     "output_type": "execute_result"
    }
   ],
   "source": [
    "# Part 2\n",
    "def is_win(result):\n",
    "    if result == \"X\":\n",
    "        return 0\n",
    "    elif result == \"Y\":\n",
    "        return 3\n",
    "    return 6\n",
    "\n",
    "\n",
    "lut = {\n",
    "    \"r\": {\n",
    "        \"X\": \"s\",\n",
    "        \"Y\": \"r\",\n",
    "        \"Z\": \"p\",\n",
    "    },\n",
    "    \"p\": {\n",
    "        \"X\": \"r\",\n",
    "        \"Y\": \"p\",\n",
    "        \"Z\": \"s\",\n",
    "    },\n",
    "    \"s\": {\n",
    "        \"X\": \"p\",\n",
    "        \"Y\": \"s\",\n",
    "        \"Z\": \"r\",\n",
    "    },\n",
    "}\n",
    "\n",
    "\n",
    "def calc_move(rival, result):\n",
    "    return lut[rival][result]\n",
    "\n",
    "\n",
    "s = 0\n",
    "for line in input.splitlines():\n",
    "    result = line.split(\" \")[1]\n",
    "    rival = decode(line.split(\" \")[0])\n",
    "    you = calc_move(rival, result)\n",
    "    s += move_score(you) + is_win(result)\n",
    "s"
   ]
  },
  {
   "cell_type": "code",
   "execution_count": null,
   "metadata": {},
   "outputs": [],
   "source": []
  }
 ],
 "metadata": {
  "kernelspec": {
   "display_name": "base",
   "language": "python",
   "name": "python3"
  },
  "language_info": {
   "codemirror_mode": {
    "name": "ipython",
    "version": 3
   },
   "file_extension": ".py",
   "mimetype": "text/x-python",
   "name": "python",
   "nbconvert_exporter": "python",
   "pygments_lexer": "ipython3",
   "version": "3.9.12 | packaged by conda-forge | (main, Mar 24 2022, 23:23:20) \n[Clang 12.0.1 ]"
  },
  "orig_nbformat": 4,
  "vscode": {
   "interpreter": {
    "hash": "e3783e17305731cd7074ea424790dd7eec9bfd8aa6710442def470b8698787fb"
   }
  }
 },
 "nbformat": 4,
 "nbformat_minor": 2
}
